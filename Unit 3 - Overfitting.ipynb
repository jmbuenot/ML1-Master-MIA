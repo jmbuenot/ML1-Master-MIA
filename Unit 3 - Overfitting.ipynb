{
 "cells": [
  {
   "cell_type": "markdown",
   "id": "0f8712e9",
   "metadata": {},
   "source": [
    "# Overfitting\n",
    "\n",
    "One of the most important issues in Machine Learning is to understand the difference between training and testing errors. The training process will allow the ANN parameters (weights and bias) to be modified to minimise the loss in the **set of patterns used for training**.  If this set of patterns is sufficiently representative, then the ANN will perform well in its working environment, i.e. with new patterns that are not in the training set.  On the other hand, if this set of patterns has not been well chosen, the ANN could not work well with new patterns.  The only way to know this is precisely to evaluate the ANN with new patterns and calculate the error with these **test patterns**.  Since the test set is available from the beginning, this evaluation with the test set is done at the same time as with the training set (but only the training set is used for training). \n",
    "\n",
    "Therefore, to assess how well trained an ANN is, this can be done by evaluating the test set, not the training set.  Usually there is only one set of data, so it is usually divided into two subsets: training and test. There are several alternatives to perform this division; in these tutorials, two different ones will be performed: \n",
    "\n",
    "* **Hold Out**. In this method, an experiment is performed with a simple partition of the data set, leaving a certain percentage for testing, usually between 20% and 30%. \n",
    "\n",
    "* **Cross-validation**.  Here, the data set is divided into $k$ disjoint subsets in order to perform the corresponding $k$ experiments.  In the k-th experiment, the $k$-th set is separated for testing, and trained with the remaining $k-1$.  A usual value of $k$ is 10, so you have a 10-fold crossvalidation.\n",
    "\n",
    "More specifically, in this session we will focus on the first one, leaving the second one for a later one.  The hold out technique allows us to split the data set into two subsets: training and test.  The training subset allows to adjust the parameters of the model (connection weights and bias), while the test subset allows to check (test) the behavious of a trained ANN (or, any kind of model that is being used, such as a decision tree) on new patterns, not present in the training set.\n",
    "\n",
    "![Normal training in the left, and an overfitting curve on the right](./img/Overfitting.png)\n",
    "\n",
    "Given a well-chosen (and therefore sufficiently representative) training set, the training process could be similar to the figure on the left, with both training and test errors decreasing with each cycle. However, in general, it cannot be ensured that the training set is as noise-free and well-chosen as desirable, so that **overtraining** or **overfitting** often occurs during training.  This can be clearly seen in the figure on the right, where both errors are decreasing until a point is reached where the test error starts to increase.   From that point on, the system starts to overfit. \n",
    "\n",
    "To avoid overfitting, in ANNs there are a series of techniques known as regularisation techniques, each of which is very different in nature, but all of which aim to avoid overtraining.  Although these techniques are dealt with in much greater depth in other subjects in the programme, e.g. Deep Learning I, in these tutorials we are going to study one of the most well-known techniques, seen in the theory session, called Early Stopping. \n",
    "\n",
    "In this technique, instead of dividing the initial set of samples into 2 subsets, we create 3 subsets: training, validation and test.  The training and test sets perform the functions described above. The purpose of the validation set is to avoid overfitting by controlling the training process, but it is not used to modify weights or bias.  There are several ways to control the training process, here we will use two of them together:\n",
    "\n",
    "* A new criteria for stopping the training process.   With the definition of a new parameter: the maximum number of consecutive cycles without improving the *loss* in the validation set.  If these cycles elapse without improving the best validation *loss* achieved so far, the training is stopped.  As the validation set is not used to modify weights or bias, it gives an estimate of what the test error could be.  Therefore, when the validation error increases, it increases the error in patterns that it has not seen, so it is estimated that the test error would increase, and the network would be overtraining.\n",
    "\n",
    "\n",
    "* Once the training process has stopped, the validation set determines which network is returned.  During all the training cycles, the loss is calculated in the training set, which is necessary to modify weights and bias, but also in the validation set.   Once the training is stopped, the ANN is returned corresponding not to the last cycle, but to the cycle with the lowest error in the validation set.  This is done because it is estimated that this ANN is the one that will give the lowest error in the test set, i.e. the one that will behave better with new patterns and, consequently, the one that will generalise better. \n",
    "\n",
    "Once the training process has stopped and an ANN has been returned, the test set can be evaluated to assess how well the ANN has been trained. \n",
    "\n",
    "> **Important**: The errors (or accuracies, or any metric used) in the training and validation sets are interesting, but the one that really matters is the test set. \n",
    "\n",
    "However, most of the time you have all 3 sets (training, validation and test) from the beginning, so as you evaluate the training and validation sets, you also evaluate the test set, which is useful for plotting graphs. However, these values in the test set cannot be used for decision making. "
   ]
  },
  {
   "cell_type": "markdown",
   "id": "7a3c258c",
   "metadata": {},
   "source": [
    "### Question 3.1\n",
    "> ❓ If what we want to achieve is an ANN with the lowest possible test error, why not choose the ANN corresponding to the cycle with the lowest test error?"
   ]
  },
  {
   "cell_type": "markdown",
   "id": "a4aea394",
   "metadata": {},
   "source": [
    "`Answer here`"
   ]
  },
  {
   "cell_type": "markdown",
   "id": "aa354eee",
   "metadata": {},
   "source": [
    "Therefore, in the training loop it is necessary to keep a reference to the best validation error found so far.  It is also necessary to keep a copy of the ANN that has given that validation error.  Both elements should be updated every cycle when the validation error improves. It is also necessary to keep a counter of how many consecutive cycles the validation error has not improved.\n",
    "\n",
    "As can be seen, the test set cannot have any involvement in the training process. This is the right thing to do, since an ANN with completely new patterns is being evaluated. However, from a very strict point of view, there is one part in this whole process where the test set is having a small influence: in the normalisation of the data.\n",
    "\n",
    "Usually the starting point is a dataset that is first normalised and then split into training/test.  If this is done in this way, the patterns used for testing have some influence on the calculation of the normalisation parameter values, which would not be correct. However, the impact they usually have on these parameters and in general on the performance of the ANN is so low, that this is usually not taken into account and all patterns are normalised together.  In any case, the really correct pipeline to do would be divide the data into train test, to calculate the values of the normalisation parameters only with the training set, and the applied that parameters of normalization to the test prior to run the usual training process. Addtionally, if there is a validation data, it can be used on the normalization, too.\n",
    "\n",
    "For this assignment, you are asked to perform two sets of experiments, one without using validation and the other using a validation set.  More specifically, the requirements are: \n",
    "\n",
    "1. Develop a function called `holdOut` that given two parameters, `N` (equal to the number of patterns) and `P` (value between 0 and 1, indicating the percentage of patterns that will be separated for the test set), returns a tuple with two vectors with the indices of the patterns that will be used for training and testing.  The sum of lengths of both vectors has to be equal to N, and these two vectors have to be disjoint.\n",
    "\n",
    "  This function can be done in a very simple way using the function `randperm` (to use it, load the module with `using Random`).\n",
    "  \n",
    "  From this function, splitting a database into two subsets is done immediately."
   ]
  },
  {
   "cell_type": "code",
   "execution_count": null,
   "id": "ab11d8f7",
   "metadata": {},
   "outputs": [],
   "source": [
    "function holdOut(N::Int, P::Real)\n",
    "    #TODO"
   ]
  },
  {
   "cell_type": "markdown",
   "id": "2b3d6e5f",
   "metadata": {},
   "source": [
    "2. Develop another function called `holdOut`, the same as the previous one and, based on it, which takes 3 parameters: `N` (number of patterns), `Pval` (rate of patterns in the validation set) and `Ptest` (rate of patterns in the test set), and returns a tuple with 3 vectors, with the indices of the elements of the training, validation and test sets. The sum of the lengths of these 3 vectors has to be equal to `N`.\n",
    "\n",
    " To do this, simply make two calls to the previously developed `holdOut` function. "
   ]
  },
  {
   "cell_type": "code",
   "execution_count": null,
   "id": "691dc785",
   "metadata": {},
   "outputs": [],
   "source": [
    "function holdOut(N::Int, Pval::Real, Ptest::Real) \n",
    "    #TODO"
   ]
  },
  {
   "cell_type": "markdown",
   "id": "ca757d71",
   "metadata": {},
   "source": [
    "3. Modify the function for training the ANN developed in the previous session to accept the following *optional* parameters in addition to those defined in the previous practice:\n",
    "  - **Validation set**, of type `Tuple{AbstractArray{<:Real,2}, AbstractArray{Bool,2}}`, i.e. a tuple of 2 arrays: inputs and targets. Default value to empty arrays.\n",
    "  - **Test set**, of type `Tuple{AbstractArray{<:Real,2}, AbstractArray{Bool,2}}`, i.e. a tuple of 2 arrays: inputs and targets. Default value to empty arrays.\n",
    "  - **maxEpochsVal**, of type `Int`, which defines the number of cycles without improving the best validation loss found so far that have to elapse to stop training. In other words, it defines a new stop criterion. Default value should be set to 20.\n",
    "  \n",
    "  With these parameters, this function should implement the early stopping strategy, for which it is necessary to take care that the ANN returned at the end of the function must be: \n",
    "    - If a validation set has been given as a argument (i.e. if it is not empty), the ANN to be returned does not have to be the one being trained, but the one with the best validation error.\n",
    "    - If no validation set has been passed as a parameter (i.e. if it is empty), the ANN to be returned should be the one corresponding to the last training cycle.  Consequently, the new training function should work in the same way as the previous one in case no validation set is given.\n",
    "    \n",
    "  Additionally, from the trained ANN, this function should return a history of the loss values obtained in the training, validation and test sets in each cycle, as a vector each.\n",
    "  \n",
    "  - To add elements to the end of a vector, refer to the function `push!`\n",
    "  - It should be noted that the loss values obtained with the ANN with random weights, prior to training, are usually considered as cycle 0. \n",
    "  \n",
    "  As stated in the previous description, it will be necessary to store the best ANN achieved so far and update it in some iterations of the loop.  To do this, you cannot simply make an assignment to a new variable, since you would only assign the pointer, which would point to the same memory address with the ANN that would be modified in the next iteration.  To make a copy of an object in such a way that all objects (and data, as in this case weights and bias) it contains are also copied, recursively, you can use the function `deepcopy`. "
   ]
  },
  {
   "cell_type": "code",
   "execution_count": null,
   "id": "40252fe7",
   "metadata": {},
   "outputs": [],
   "source": [
    "function trainClassANN(topology::AbstractArray{<:Int,1},  \n",
    "            trainingDataset::Tuple{AbstractArray{<:Real,2}, AbstractArray{Bool,2}}; \n",
    "            validationDataset::Tuple{AbstractArray{<:Real,2}, AbstractArray{Bool,2}}= \n",
    "                    (Array{eltype(trainingDataset[1]),2}(undef,0,0), falses(0,0)), \n",
    "            testDataset::Tuple{AbstractArray{<:Real,2}, AbstractArray{Bool,2}}= \n",
    "                    (Array{eltype(trainingDataset[1]),2}(undef,0,0), falses(0,0)), \n",
    "            transferFunctions::AbstractArray{<:Function,1}=fill(σ, length(topology)), \n",
    "            maxEpochs::Int=1000, minLoss::Real=0.0, learningRate::Real=0.01,  \n",
    "            maxEpochsVal::Int=20, showText::Bool=false) \n",
    "      #TODO         "
   ]
  },
  {
   "cell_type": "markdown",
   "id": "d2308318",
   "metadata": {},
   "source": [
    "4. Since there were two versions of the ANN training function (the second accepted a vector as desired outputs), modify this function in the same way so that the targets are vectors instead of arrays for the two-class classification case. Note that in this case the types of the training, validation and test sets passed as parameters will be `Tuple{AbstractArray{<:Real,2}, AbstractArray{Bool,1}}` for all three and therefore it will be necessary to call the function `reshape` on all three. "
   ]
  },
  {
   "cell_type": "code",
   "execution_count": null,
   "id": "66c1a7dc",
   "metadata": {},
   "outputs": [],
   "source": [
    "function trainClassANN(topology::AbstractArray{<:Int,1},  \n",
    "        trainingDataset::Tuple{AbstractArray{<:Real,2}, AbstractArray{Bool,1}}; \n",
    "        validationDataset::Tuple{AbstractArray{<:Real,2}, AbstractArray{Bool,1}}= \n",
    "                    (Array{eltype(trainingDataset[1]),2}(undef,0,0), falses(0)), \n",
    "        testDataset::Tuple{AbstractArray{<:Real,2}, AbstractArray{Bool,1}}= \n",
    "                    (Array{eltype(trainingDataset[1]),2}(undef,0,0), falses(0)), \n",
    "        transferFunctions::AbstractArray{<:Function,1}=fill(σ, length(topology)), \n",
    "        maxEpochs::Int=1000, minLoss::Real=0.0, learningRate::Real=0.01,  \n",
    "        maxEpochsVal::Int=20, showText::Bool=false)\n",
    "    #TODO"
   ]
  },
  {
   "cell_type": "markdown",
   "id": "11d1c1b6",
   "metadata": {},
   "source": [
    "Remember to integrate the code developed in previous sessions to validate the following pipeline:\n",
    "\n",
    "1. Load the database, having the patterns in rows and desired attributes and outputs in columns. \n",
    "\n",
    "2. Use the function `holdOut` to split the data set into training, validation and test with the desired percentages. These percentages can be equal to 0.  You will therefore have 6 matrices: inputs and targets in training, validation and test (some may be empty if the corresponding percentage is 0). \n",
    "\n",
    "3. Calculate the parameter values corresponding to the type of normalisation to be used with your data (maximum/minimum or mean/standard deviation for each attribute) from the training set only.\n",
    "  * This part does not ask to normalise the training set, but to calculate the normalisation values from the training set. \n",
    "4. With these parameters for normalisation calculated in the previous step, normalise training, validation and test sets.\n",
    "5. Train different architectures, and, for each one of them, draw graphs of the evolution of the training, validation and test loss values in the same graph, including cycle 0. "
   ]
  },
  {
   "cell_type": "code",
   "execution_count": null,
   "id": "ec741790",
   "metadata": {},
   "outputs": [],
   "source": [
    "#Develop here the corresponding code and/or in an external file\n",
    "#You can load instead of copy and paste\n",
    "#TODO"
   ]
  },
  {
   "cell_type": "markdown",
   "id": "784e4832",
   "metadata": {},
   "source": [
    "### Question 3.2\n",
    "> ❓ Has the test error always decreased or has there come a point where it has started to increase?"
   ]
  },
  {
   "cell_type": "markdown",
   "id": "046dd2ea",
   "metadata": {},
   "source": [
    "`Answer here`"
   ]
  },
  {
   "cell_type": "markdown",
   "id": "deea20d7",
   "metadata": {},
   "source": [
    "### Question 3.3\n",
    "> ❓ How do the 3 precision values evolve?"
   ]
  },
  {
   "cell_type": "markdown",
   "id": "8458c651",
   "metadata": {},
   "source": [
    "`Answer here`"
   ]
  },
  {
   "cell_type": "markdown",
   "id": "cd81f5a8",
   "metadata": {},
   "source": [
    "### Question 3.4\n",
    "> ❓ Which criteria usually stop the training? Why?"
   ]
  },
  {
   "cell_type": "markdown",
   "id": "820c4036",
   "metadata": {},
   "source": [
    "`Answer here`"
   ]
  },
  {
   "cell_type": "markdown",
   "id": "9a2222a0",
   "metadata": {},
   "source": [
    "### Question 3.5\n",
    "> ❓ To which cycle does the ANN returned by the function correspond? "
   ]
  },
  {
   "cell_type": "markdown",
   "id": "c16dc42e",
   "metadata": {},
   "source": [
    "`Answer here`"
   ]
  },
  {
   "cell_type": "markdown",
   "id": "d79d3366",
   "metadata": {},
   "source": [
    "# Julia Notes\n",
    "\n",
    "Julia has a library that allows you to display all kinds of plots in a very simple way.  To load it, simply put `using Plots`, the documentation can be found at http://docs.juliaplots.org/. As always the first should be to install, ifg it is not already installed:"
   ]
  },
  {
   "cell_type": "code",
   "execution_count": null,
   "id": "b94bf546",
   "metadata": {},
   "outputs": [],
   "source": [
    "using Pkg; Pkg.add(\"Plots\")"
   ]
  },
  {
   "cell_type": "markdown",
   "id": "a528b473",
   "metadata": {},
   "source": [
    "Actually, `Plots.jl` is not a package for displaying plots, but an interface to a set of libraries for displaying plots.  Plots.jl provides a set of functions that allow, in a unified way, to display plots using one or another library, with the same calls.  That is, what Plots.jl does is to interpret the commands and generate the plots using another graphics library, which it refers to as a backend. Therefore, it is possible to change the graphics library (backend) without having to modify the code, since the calls to the corresponding functions are the same for all backends. \n",
    "\n",
    "So, first of all, after loading `Plots`, is to select the backend you want to work with.  Julia provides a large number of widely used ones, which you have to install in the usual way if you want to use them. If you don't indicate which one you want to use, Julia defaults to choosing one depending on which ones are installed. To see which backend is being used, you can simply type `backend()`."
   ]
  },
  {
   "cell_type": "code",
   "execution_count": null,
   "id": "a1542555",
   "metadata": {},
   "outputs": [],
   "source": [
    "using Plots\n",
    "backend()"
   ]
  },
  {
   "cell_type": "markdown",
   "id": "88893360",
   "metadata": {},
   "source": [
    "Some of the most common backends are: Plotly, PyPlot, PlotlyJS and GR. In general, to use a backend, you simply make a call to a function named after the backend itself, but in lowercase. For the 4 given as examples at the beginning of this paragraph, it would be with calls to `plotly()`, `pyplot()`, `plotlyjs()` and `gr()` respectively. As said before, in case it is not installed you will have to install it in the usual way, writing `Pkg.add(\"Plotly\")`, `Pkg.add(\"PyPlot\")`, `Pkg.add(\"PlotlyJS\")` or `Pkg.add(\"GR\")` respectively.   More information about the different backends can be found at https://docs.juliaplots.org/latest/backends/."
   ]
  },
  {
   "cell_type": "code",
   "execution_count": null,
   "id": "1910b98e",
   "metadata": {},
   "outputs": [],
   "source": [
    "# Install the pyplot and plotly if you do not have it"
   ]
  },
  {
   "cell_type": "markdown",
   "id": "569e18a4",
   "metadata": {},
   "source": [
    "Once the desired backend is loaded, or with the default backend, you can start plotting. The easiest way is to use the plot function, which receives two parameters: the series to be put on the x-axis, and the series to be put on the y-axis, both as vectors, for example: "
   ]
  },
  {
   "cell_type": "code",
   "execution_count": null,
   "id": "f468771f",
   "metadata": {},
   "outputs": [],
   "source": [
    "plot(1:5, [2, 3, 1, 3, 5])"
   ]
  },
  {
   "cell_type": "markdown",
   "id": "702400b8",
   "metadata": {},
   "source": [
    "In general, if you want to put more than one series on the graph, it is sufficient to specify one column per series in the matrix you pass to it for the y-axis data, for example:"
   ]
  },
  {
   "cell_type": "code",
   "execution_count": null,
   "id": "b71af884",
   "metadata": {},
   "outputs": [],
   "source": [
    "plot(1:5, [2 1; 3 -1; 1 0; 3 2; 5 4])"
   ]
  },
  {
   "cell_type": "markdown",
   "id": "4cb10562",
   "metadata": {},
   "source": [
    "Another way to do this is to add more series to the plot object that has been created. That is, the call to plot returns an object that can be modified by further calls to `plot!` and passing it as the first parameter (remember that when the name of a function ends in `!` the argument passed is modified). The above example could be done in the following way: "
   ]
  },
  {
   "cell_type": "code",
   "execution_count": null,
   "id": "f487407d",
   "metadata": {},
   "outputs": [],
   "source": [
    "g = plot(1:5, [2, 3, 1, 3, 5]) \n",
    "plot!(g, 1:5, [1, -1, 0, 2, 4])"
   ]
  },
  {
   "cell_type": "markdown",
   "id": "da5b88d0",
   "metadata": {},
   "source": [
    "Or alternatively:"
   ]
  },
  {
   "cell_type": "code",
   "execution_count": null,
   "id": "cfb9829f",
   "metadata": {},
   "outputs": [],
   "source": [
    "g = plot() \n",
    "plot!(g, 1:5, [2, 3, 1, 3, 5]) \n",
    "plot!(g, 1:5, [1, -1, 0, 2, 4])"
   ]
  },
  {
   "cell_type": "markdown",
   "id": "f697e3d6",
   "metadata": {},
   "source": [
    "For any of these three possibilities, if this is done in the command interpreter, the graph will appear.  In fact, in the second and third possibilities, more than one graph will appear as you create them. However, if this is done in a script, the graph does not automatically appear.  If we want it to appear, we have to make a call to display in this way: \n",
    "\n",
    "```julia\n",
    "    display(g)\n",
    "```\n",
    "\n",
    "Besides the function plot, there are many other functions that allow you to represent other types of graphs and charts with the usual names, such as `heatmap`, `plot3d`, `scatter`, `histogram`, `boxplot`, `violin`, etc., all of them with their corresponding function ending in `!`.  As always, you can consult the help of a function by typing, for example: "
   ]
  },
  {
   "cell_type": "code",
   "execution_count": null,
   "id": "24dab179",
   "metadata": {},
   "outputs": [],
   "source": [
    "?boxplot"
   ]
  },
  {
   "cell_type": "markdown",
   "id": "497e325c",
   "metadata": {},
   "source": [
    "Generally speaking, it is desired to add more information to the graphs than just the data used in the graph.  This information usually includes title, labels on the axes, legend, markers at each point, line type, colours, etc.  This is usually done through attributes passed as keywords in function calls, such as `axis`, `label`, `line`, `fill`, `marker`, `ticks`, `title`, `xlabel`, `ylabel`, for example: "
   ]
  },
  {
   "cell_type": "code",
   "execution_count": null,
   "id": "4dedc8ec",
   "metadata": {},
   "outputs": [],
   "source": [
    "plot(1:5, [2, 3, 1, 3, 5], \n",
    "    xaxis = \"Epoch\", yaxis = \"Loss value\", title = \"An plot example\", \n",
    "    marker = :square, color = :red, label = \"Serie 1\")"
   ]
  },
  {
   "cell_type": "markdown",
   "id": "a81203ef",
   "metadata": {},
   "source": [
    "A quick overview of the most common keywords can be found at https://docs.juliaplots.org/latest/attributes/.   On the other hand, https://docs.juliaplots.org/latest/generated/supported/tenéis has a complete list of the different types of series, keywords, markers, line styles and scales supported by each backend.  As you can see, the list of graphs and arguments is quite extensive, which gives you an idea of the enormous possibilities Julia offers when it comes to plotting graphs.\n",
    "\n",
    "Another common issue when displaying graphs is to combine several graphs within a single window.  There are several methods to do this, the simplest and most commonly used being by using the keyword `layout` in the call to the corresponding function to generate the graph containing all of them.  In this sense, it is the easiest way to generate the graphs independently, and combine them later in a new call using the keyword `layout`, which receives as parameter a tuple with the number of rows and columns of the matrix of graphs, for example:"
   ]
  },
  {
   "cell_type": "code",
   "execution_count": null,
   "id": "352fe7b7",
   "metadata": {},
   "outputs": [],
   "source": [
    "p1 = plot(1:4, [1, 3, 4, 2]); \n",
    "p2 = plot(1:4, [2, 3, 2, 1]); \n",
    "p3 = plot(1:4, [3, 2, 1, 2]); \n",
    "plot(p1, p2, p3, layout = (3,1))"
   ]
  },
  {
   "cell_type": "markdown",
   "id": "07f7afea",
   "metadata": {},
   "source": [
    "As you could see, the plots asre arrange in a column layout each one in a row, alternatively, if we invert the order the result could be set in a single row as in:"
   ]
  },
  {
   "cell_type": "code",
   "execution_count": null,
   "id": "19f386e8",
   "metadata": {},
   "outputs": [],
   "source": [
    "plot(p1, p2, p3, layout = (1,3))"
   ]
  },
  {
   "cell_type": "markdown",
   "id": "a15abf21",
   "metadata": {},
   "source": [
    "More information on how to combine graphics can be found at https://docs.juliaplots.org/latest/layouts/. \n",
    "\n",
    "Finally, another very common action is to save the generated graphs.  This can be done by means of the savefig function, which receives as parameters the graph to save and the file name. From the extension indicated in the file name, Julia saves the graph in the indicated format. Some of the most typical formats are `pdf`, `png` or `ps`.  Although this is a very easy way to save the graphs, not all file types are supported by all backends. At https://docs.juliaplots.org/latest/output/ you can check the file formats supported by each backend. For exple with the previous example.\n",
    "\n",
    "```julia\n",
    "    g = plot(p1, p2, p3, layout = (1,3))\n",
    "    savefig(g, 'ExampleSingleRow.png')\n",
    "```"
   ]
  },
  {
   "cell_type": "code",
   "execution_count": null,
   "id": "f698d78f",
   "metadata": {},
   "outputs": [],
   "source": []
  }
 ],
 "metadata": {
  "kernelspec": {
   "display_name": "Julia 1.10.0",
   "language": "julia",
   "name": "julia-1.10"
  },
  "language_info": {
   "file_extension": ".jl",
   "mimetype": "application/julia",
   "name": "julia",
   "version": "1.10.0"
  }
 },
 "nbformat": 4,
 "nbformat_minor": 5
}
